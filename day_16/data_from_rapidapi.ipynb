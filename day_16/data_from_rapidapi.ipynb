{
 "cells": [
  {
   "cell_type": "code",
   "execution_count": 1,
   "id": "d08d8fae",
   "metadata": {},
   "outputs": [],
   "source": [
    "import requests\n",
    "import pandas as pd\n"
   ]
  },
  {
   "cell_type": "code",
   "execution_count": 32,
   "id": "3bd290b1",
   "metadata": {},
   "outputs": [
    {
     "data": {
      "text/html": [
       "<div>\n",
       "<style scoped>\n",
       "    .dataframe tbody tr th:only-of-type {\n",
       "        vertical-align: middle;\n",
       "    }\n",
       "\n",
       "    .dataframe tbody tr th {\n",
       "        vertical-align: top;\n",
       "    }\n",
       "\n",
       "    .dataframe thead th {\n",
       "        text-align: right;\n",
       "    }\n",
       "</style>\n",
       "<table border=\"1\" class=\"dataframe\">\n",
       "  <thead>\n",
       "    <tr style=\"text-align: right;\">\n",
       "      <th></th>\n",
       "    </tr>\n",
       "  </thead>\n",
       "  <tbody>\n",
       "  </tbody>\n",
       "</table>\n",
       "</div>"
      ],
      "text/plain": [
       "Empty DataFrame\n",
       "Columns: []\n",
       "Index: []"
      ]
     },
     "execution_count": 32,
     "metadata": {},
     "output_type": "execute_result"
    }
   ],
   "source": [
    "import json\n",
    "import urllib\n",
    "import requests\n",
    "\n",
    "url = 'https://parseapi.back4app.com/classes/pakistan_zip_code_database?count=1&limit=0'\n",
    "headers = {\n",
    "    'X-Parse-Application-Id': '9esCmfQ7B5JjvizuGxyS7Ej5TvCKo7LRx8szSMMZ', # This is the fake app's application id\n",
    "    'X-Parse-Master-Key': 'pSIB8xvv42i2lzjlqvg0ujrgP7qOZ27Ck3TEhi1t' # This is the fake app's readonly master key\n",
    "}\n",
    "data = json.loads(requests.get(url, headers=headers).content.decode('utf-8')) \n",
    "df = pd.DataFrame(data['results'])\n",
    "df.head()"
   ]
  },
  {
   "cell_type": "code",
   "execution_count": 31,
   "id": "ec533178",
   "metadata": {},
   "outputs": [],
   "source": [
    "df[\"objectId\"] = range(1, len(df) + 1)\n",
    "df.head()\n",
    "df.to_csv('pakistan_zip_code_database.csv', index=True)"
   ]
  },
  {
   "cell_type": "code",
   "execution_count": null,
   "id": "48c13c25",
   "metadata": {},
   "outputs": [],
   "source": []
  }
 ],
 "metadata": {
  "kernelspec": {
   "display_name": "scraping",
   "language": "python",
   "name": "python3"
  },
  "language_info": {
   "codemirror_mode": {
    "name": "ipython",
    "version": 3
   },
   "file_extension": ".py",
   "mimetype": "text/x-python",
   "name": "python",
   "nbconvert_exporter": "python",
   "pygments_lexer": "ipython3",
   "version": "3.10.18"
  }
 },
 "nbformat": 4,
 "nbformat_minor": 5
}
