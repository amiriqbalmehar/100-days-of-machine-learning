{
 "cells": [
  {
   "cell_type": "code",
   "execution_count": 19,
   "id": "2ddb822a",
   "metadata": {},
   "outputs": [],
   "source": [
    "import pandas as pd\n",
    "import requests\n",
    "from bs4 import BeautifulSoup\n",
    "import numpy as np"
   ]
  },
  {
   "cell_type": "code",
   "execution_count": 22,
   "id": "a250638d",
   "metadata": {},
   "outputs": [
    {
     "data": {
      "text/html": [
       "<div>\n",
       "<style scoped>\n",
       "    .dataframe tbody tr th:only-of-type {\n",
       "        vertical-align: middle;\n",
       "    }\n",
       "\n",
       "    .dataframe tbody tr th {\n",
       "        vertical-align: top;\n",
       "    }\n",
       "\n",
       "    .dataframe thead th {\n",
       "        text-align: right;\n",
       "    }\n",
       "</style>\n",
       "<table border=\"1\" class=\"dataframe\">\n",
       "  <thead>\n",
       "    <tr style=\"text-align: right;\">\n",
       "      <th></th>\n",
       "    </tr>\n",
       "  </thead>\n",
       "  <tbody>\n",
       "  </tbody>\n",
       "</table>\n",
       "</div>"
      ],
      "text/plain": [
       "Empty DataFrame\n",
       "Columns: []\n",
       "Index: []"
      ]
     },
     "metadata": {},
     "output_type": "display_data"
    }
   ],
   "source": [
    "try:\n",
    "    # Try with lxml first\n",
    "    soup = BeautifulSoup(webpage, 'lxml')\n",
    "except:\n",
    "    # Fallback to built-in HTML parser if lxml is not available\n",
    "    soup = BeautifulSoup(webpage, 'html.parser')\n",
    "\n",
    "# Now let's extract and display the data\n",
    "try:\n",
    "    # Find all company elements\n",
    "    companies = soup.find_all('div', class_='company-content')\n",
    "    \n",
    "    # Create lists to store data\n",
    "    data = []\n",
    "    \n",
    "    # Extract company information\n",
    "    for company in companies:\n",
    "        company_info = {}\n",
    "        company_info['name'] = company.find('a', class_='company-name').text.strip() if company.find('a', class_='company-name') else 'N/A'\n",
    "        company_info['rating'] = company.find('span', class_='rating').text.strip() if company.find('span', class_='rating') else 'N/A'\n",
    "        data.append(company_info)\n",
    "    \n",
    "    # Create DataFrame\n",
    "    df = pd.DataFrame(data)\n",
    "    display(df)\n",
    "    \n",
    "except Exception as e:\n",
    "    print(f\"Error parsing data: {e}\")"
   ]
  },
  {
   "cell_type": "code",
   "execution_count": 23,
   "id": "0a7f8228",
   "metadata": {},
   "outputs": [
    {
     "data": {
      "text/plain": [
       "[<h1>Access Denied</h1>]"
      ]
     },
     "execution_count": 23,
     "metadata": {},
     "output_type": "execute_result"
    }
   ],
   "source": [
    "soup.find_all('h1')"
   ]
  }
 ],
 "metadata": {
  "kernelspec": {
   "display_name": "scraping",
   "language": "python",
   "name": "python3"
  },
  "language_info": {
   "codemirror_mode": {
    "name": "ipython",
    "version": 3
   },
   "file_extension": ".py",
   "mimetype": "text/x-python",
   "name": "python",
   "nbconvert_exporter": "python",
   "pygments_lexer": "ipython3",
   "version": "3.10.18"
  }
 },
 "nbformat": 4,
 "nbformat_minor": 5
}
